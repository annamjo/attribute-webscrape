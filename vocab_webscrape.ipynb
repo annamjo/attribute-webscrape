{
  "nbformat": 4,
  "nbformat_minor": 0,
  "metadata": {
    "language_info": {
      "codemirror_mode": {
        "name": "ipython",
        "version": 3
      },
      "file_extension": ".py",
      "mimetype": "text/x-python",
      "name": "python",
      "nbconvert_exporter": "python",
      "pygments_lexer": "ipython3",
      "version": "3.9.1-final"
    },
    "orig_nbformat": 2,
    "kernelspec": {
      "name": "python3",
      "display_name": "Python 3.9.1 64-bit",
      "metadata": {
        "interpreter": {
          "hash": "1c8e595dd15f10594dab33325f1a9e14517d5c773686dccc352de4e754519dab"
        }
      }
    },
    "colab": {
      "name": "vocab_webscrape.ipynb",
      "provenance": []
    }
  },
  "cells": [
    {
      "cell_type": "markdown",
      "metadata": {
        "id": "TnnVyQZg0PNs"
      },
      "source": [
        "# Automate Data Collection of Attributes with Selenium in Python\n",
        "\n",
        "Using Selenium WebDriver to webscrape on Chrome. I specifically used Selenium to retrieve content loaded dynamically with JS on vocabulary.com.\n",
        "\n",
        "Goal: compile a complete list of adverbs and adjectives from a dictionary website, load into a dataframe, and export to CSV."
      ]
    },
    {
      "cell_type": "code",
      "metadata": {
        "id": "44b9yiii0PNx"
      },
      "source": [
        "from selenium import webdriver\n",
        "from selenium.webdriver.chrome.webdriver import WebDriver\n",
        "from selenium.webdriver.common.keys import Keys\n",
        "from selenium.webdriver.common.by import By\n",
        "from selenium.webdriver.support.ui import WebDriverWait\n",
        "from selenium.webdriver.support import expected_conditions as EC\n",
        "import requests\n",
        "from collections import defaultdict\n",
        "import csv\n",
        "import pandas as pd"
      ],
      "execution_count": null,
      "outputs": []
    },
    {
      "cell_type": "markdown",
      "metadata": {
        "id": "mLqIuMFQ0PNx"
      },
      "source": [
        "\n",
        "Fire up the Webdriver to open the destination webpage: vocabulary.com's dictionary page "
      ]
    },
    {
      "cell_type": "code",
      "metadata": {
        "id": "0ZpzDqUJ0PNy",
        "outputId": "52b27983-a620-4737-f006-e1c4f2d2a981"
      },
      "source": [
        "chrome_path = r\"C:\\Users\\annam\\chromedriver_win32\\chromedriver.exe\"\n",
        "driver = webdriver.Chrome(chrome_path)\n",
        "driver.get('https://www.vocabulary.com/dictionary/')\n",
        "print(driver.title)"
      ],
      "execution_count": null,
      "outputs": [
        {
          "output_type": "stream",
          "text": [
            "Vocabulary.com Dictionary - Meanings, Definitions, Quizzes, and Word Games : Vocabulary.com\n"
          ],
          "name": "stdout"
        }
      ]
    },
    {
      "cell_type": "markdown",
      "metadata": {
        "id": "Ba_cExl_0PNz"
      },
      "source": [
        "Enter in lookup terms for adjectives and adverbs, simulating advanced search submission"
      ]
    },
    {
      "cell_type": "code",
      "metadata": {
        "id": "BVcmR0-c0PNz"
      },
      "source": [
        "wait = WebDriverWait(driver,10)\n",
        "wait.until(EC.element_to_be_clickable((By.ID,\"search\")))\n",
        "search_box = driver.find_element_by_id(\"search\")\n",
        "search_box.send_keys('pos:adjective',Keys.RETURN)\n",
        "\n",
        "wait2 = WebDriverWait(driver,10)\n",
        "wait2.until(EC.visibility_of_all_elements_located((By.CLASS_NAME,\"entry\")))\n",
        "terms = driver.find_elements_by_class_name(\"entry\")"
      ],
      "execution_count": null,
      "outputs": []
    },
    {
      "cell_type": "code",
      "metadata": {
        "id": "-9WFqq090PNz",
        "outputId": "1328c09c-64e9-4980-f159-a782a959af81"
      },
      "source": [
        "# example code\n",
        "auto = driver.find_element(By.ID, \"autocomplete\")\n",
        "wait = WebDriverWait(driver,10)\n",
        "\n",
        "driver.execute_script(\"arguments[0].scrollIntoView()\", auto)\n",
        "driver.execute_script(\"arguments[0].scrollIntoView(true)\", terms[19])\n",
        "wait.until(EC.visibility_of_all_elements_located((By.CLASS_NAME,\"entry\")))\n",
        "terms = driver.find_elements_by_class_name(\"entry\")\n",
        "driver.execute_script(\"arguments[0].scrollIntoView()\", auto)\n",
        "print(terms[20].text)\n",
        "driver.execute_script(\"arguments[0].scrollIntoView()\", auto)\n",
        "\n",
        "driver.execute_script(\"arguments[0].scrollIntoView(true)\", terms[39])\n",
        "wait.until(EC.visibility_of_all_elements_located((By.CLASS_NAME,\"entry\")))\n",
        "terms = driver.find_elements_by_class_name(\"entry\")\n",
        "driver.execute_script(\"arguments[0].scrollIntoView()\", auto)\n",
        "print(terms[40].text)\n",
        "driver.execute_script(\"arguments[0].scrollIntoView()\", auto)\n",
        "\n",
        "# print([terms[i].text for i in range(len(terms))])"
      ],
      "execution_count": null,
      "outputs": [
        {
          "output_type": "stream",
          "text": [
            "115 being five more than one hundred ten\n",
            "14th coming next after the thirteenth in position\n"
          ],
          "name": "stdout"
        }
      ]
    },
    {
      "cell_type": "code",
      "metadata": {
        "id": "WyCQ18Yn0PNz",
        "outputId": "59f5dca8-9037-4657-9e09-0c711c0220fd"
      },
      "source": [
        "# scroll to end of vocab list\n",
        "def scrollToBottom(terms):\n",
        "    auto = driver.find_element(By.ID, \"autocomplete\")\n",
        "    wait = WebDriverWait(driver,10)\n",
        "    canScroll = True # when len of terms remains the same...stop\n",
        "    term_id = 19\n",
        "    tries = 3\n",
        "    while canScroll:\n",
        "        for i in range(tries):\n",
        "            try:\n",
        "                if term_id < 1000: #len(terms):\n",
        "                    driver.execute_script(\"arguments[0].scrollIntoView()\", auto)\n",
        "                    driver.execute_script(\"arguments[0].scrollIntoView(true)\", terms[term_id])\n",
        "\n",
        "                    wait.until(EC.visibility_of_all_elements_located((By.CLASS_NAME,\"entry\")))\n",
        "                    terms = driver.find_elements_by_class_name(\"entry\")\n",
        "\n",
        "                    driver.execute_script(\"arguments[0].scrollIntoView()\", auto)\n",
        "                    # print(terms[term_id+1].text) # for debugging\n",
        "                    driver.execute_script(\"arguments[0].scrollIntoView()\", auto)\n",
        "\n",
        "                    term_id += 20\n",
        "                else: canScroll = False\n",
        "                break\n",
        "            except:\n",
        "                # pass\n",
        "                driver.execute_script(\"arguments[0].scrollIntoView()\", auto)\n",
        "                driver.execute_script(\"arguments[0].scrollIntoView(true)\", terms[term_id])\n",
        "                driver.execute_script(\"arguments[0].scrollIntoView()\", auto)\n",
        "                wait.until(EC.visibility_of_all_elements_located((By.CLASS_NAME,\"entry\")))\n",
        "                terms = driver.find_elements_by_class_name(\"entry\")\n",
        "                driver.execute_script(\"arguments[0].scrollIntoView()\", auto)\n",
        "                print('exception at ' + str(term_id))\n",
        "        else:\n",
        "            # enter here only if we have failed all our tries, break out of while loop\n",
        "            print(\"broken at \" + str(term_id))\n",
        "            term_id = 1000 # canScroll = False\n",
        "    print('done at ' + str(term_id))\n",
        "    return terms\n",
        "\n",
        "\n",
        "terms = driver.find_elements_by_class_name(\"entry\")\n",
        "terms = scrollToBottom(terms)"
      ],
      "execution_count": null,
      "outputs": [
        {
          "output_type": "stream",
          "text": [
            "done at 1019\n"
          ],
          "name": "stdout"
        }
      ]
    },
    {
      "cell_type": "code",
      "metadata": {
        "id": "yyGaMRDU0PN0",
        "outputId": "dd8b1781-9604-4645-f6db-b6f80058c903"
      },
      "source": [
        "print(len(terms))\n",
        "words = []\n",
        "defs = []\n",
        "def iterwords(terms):\n",
        "    for term in terms:\n",
        "        word = term.find_element_by_class_name(\"word\").text\n",
        "        words.append(word)\n",
        "        defin = term.find_element_by_class_name(\"definition\").text\n",
        "        defs.append(defin)\n",
        "\n",
        "iterwords(terms)\n",
        "print(words)\n",
        "# print(defs)"
      ],
      "execution_count": null,
      "outputs": [
        {
          "output_type": "stream",
          "text": [
            "1020\n",
            "['in', 'i', 'on', 'all', '0', '1', '10', '100', '1000', '1000th', '100th', '101', '101st', '105', '105th', '10-membered', '10th', '11', '110', '110th', '115', '115th', '11th', '12', '120', '120th', '125', '125th', '12th', '13', '130', '130th', '135', '135th', '13th', '14', '140', '140th', '145', '145th', '14th', '15', '150', '150th', '155', '155th', '15th', '16', '160', '160th', '165', '165th', '16th', '17', '170', '170th', '175', '175th', '17th', '18', '180', '180th', '18th', '19', '190', '190th', '19th', '1st', '2', '20', '200', '200th', '20th', '21', '21st', '22', '.22 caliber', '.22-caliber', '.22 calibre', '.22-calibre', '22nd', '23', '23rd', '24', '24th', '25', '25th', '26', '26th', '27', '27th', '28', '28th', '29', '29th', '2d', '2-dimensional', '2nd', '3', '30', '300', '300th', '30th', '31', '31st', '32', '32nd', '33', '33rd', '34', '34th', '35', '35th', '36', '36th', '37', '37th', '38', '.38 caliber', '.38-caliber', '.38 calibre', '.38-calibre', '38th', '39', '39th', '3-dimensional', '3-membered', '3rd', '4', '40', '400', '400th', '40th', '41', '41st', '42', '42nd', '43', '43rd', '44', '44th', '45', '.45 caliber', '.45-caliber', '.45 calibre', '.45-calibre', '45th', '46', '46th', '47', '47th', '48', '48th', '49', '49th', '4-dimensional', '4-membered', '4th', '5', '50', '500', '500th', '50th', '51', '52', '53', '54', '55', '55th', '56', '57', '58', '59', '5-membered', '5th', '6', '60', '60th', '61', '62', '63', '64', '64th', '65', '65th', '66', '67', '68', '69', '6-membered', '6th', '7', '70', '70th', '71', '72', '73', '74', '75', '75th', '76', '77', '78', '79', '7-membered', '7th', '8', '80', '80th', '81', '82', '83', '84', '85', '85th', '86', '87', '88', '89', '8-membered', '8th', '9', '90', '90th', '91', '92', '93', '94', '95', '95th', '96', '97', '98', '99', '9-membered', '9th', 'abactinal', 'abandoned', 'abashed', 'abasic', 'abatable', 'abatic', 'abaxial', 'abbatial', 'abbreviated', 'abdicable', 'abdominal', 'abdominous', 'abdominovesical', 'abducent', 'abducting', 'abecedarian', 'Aberdonian', 'aberrant', 'abeyant', 'abhorrent', 'abiding', 'abient', 'abiogenetic', 'abiotic', 'abject', 'Abkhaz', 'Abkhazian', 'ablated', 'ablative', 'ablaze', 'able', 'able-bodied', 'abloom', 'ablutionary', 'Abnaki', 'abnormal', 'abolishable', 'abolitionary', 'abomasal', 'abominable', 'aboral', 'Aboriginal', 'aboriginal', 'abortifacient', 'abortive', 'aboulic', 'abounding', 'about', 'above', 'aboveboard', 'aboveground', 'above-mentioned', 'above-named', 'abranchial', 'abranchiate', 'abranchious', 'abrasive', 'abreast', 'abridged', 'abroach', 'abroad', 'abrupt', 'abruptly-pinnate', 'abscessed', 'absent', 'absentminded', 'absolute', 'absolutist', 'absolutistic', 'absolved', 'absolvitory', 'absorbable', 'absorbed', 'absorbefacient', 'absorbent', 'absorbing', 'absorptive', 'abstemious', 'abstentious', 'abstinent', 'abstract', 'abstracted', 'abstractionist', 'abstractive', 'abstruse', 'absurd', 'abulic', 'abundant', 'abused', 'abusive', 'abuzz', 'abysmal', 'abyssal', 'academic', 'acanthoid', 'acanthotic', 'acanthous', 'acapnial', 'acapnic', 'acapnotic', 'a cappella', 'acarpellous', 'acarpelous', 'acarpous', 'acatalectic', 'acaudal', 'acaudate', 'acaulescent', 'accelerando', 'accelerated', 'accelerative', 'acceleratory', 'accented', 'accentual', 'acceptable', 'acceptant', 'accepted', 'accepting', 'acceptive', 'accessary', 'accessible', 'accessional', 'accessorial', 'accessory', 'accidental', 'accident-prone', 'accipitrine', 'acclivitous', 'accommodating', 'accommodational', 'accommodative', 'accompanied', 'accompanying', 'accomplishable', 'accomplished', 'accordant', 'according', 'accountable', 'accoutered', 'accoutred', 'accredited', 'accretionary', 'accretive', 'accrued', 'acculturational', 'acculturative', 'accumbent', 'accumulated', 'accumulative', 'accurate', 'accursed', 'accurst', 'accusative', 'accusatorial', 'accusatory', 'accusing', 'accusive', 'accustomed', 'ace', 'acellular', 'acentric', 'acephalous', 'acerate', 'acerb', 'acerbic', 'acerose', 'acervate', 'acetabular', 'acetic', 'acetonic', 'acetose', 'acetous', 'acetylenic', 'acetylic', 'Achaean', 'achenial', 'Acheronian', 'Acherontic', 'achievable', 'aching', 'achlamydeous', 'achlorhydric', 'achondritic', 'achondroplastic', 'achromatic', 'achromatinic', 'achromatous', 'achromic', 'achromous', 'achy', 'acicular', 'aciculate', 'acid', 'acid-fast', 'acid-forming', 'acidic', 'acidimetric', 'acid-loving', 'acidophilic', 'acidophilous', 'acidotic', 'acid-tasting', 'acidulent', 'acidulous', 'aciduric', 'acinar', 'acinic', 'acinose', 'acinous', 'acknowledgeable', 'acknowledged', 'acned', 'acneiform', 'acold', 'acorn-shaped', 'a couple of', 'acoustic', 'acoustical', 'acquainted', 'acquiescent', 'acquirable', 'acquired', 'acquisitive', 'acquitted', 'acrid', 'acrimonious', 'acritical', 'acrobatic', 'acrocarpous', 'acrocentric', 'acrogenic', 'acrogenous', 'acromegalic', 'acronymic', 'acronymous', 'acropetal', 'acrophobic', 'acroscopic', 'across-the-board', 'actable', 'actinal', 'acting', 'actinic', 'actinoid', 'actinometric', 'actinometrical', 'actinomorphic', 'actinomorphous', 'actinomycetal', 'actinomycetous', 'actinomycotic', 'actionable', 'activated', 'activating', 'active', 'activist', 'activistic', 'actual', 'actuarial', 'actuated', 'actuating', 'acuate', 'aculeate', 'aculeated', 'acuminate', 'acute', 'acyclic', 'adactylous', 'adagio', 'adamant', 'adamantine', 'adaptable', 'adaptational', 'adaptative', 'adapted', 'adaptive', 'adaxial', 'addable', 'addible', 'addicted', 'addictive', 'additional', 'additive', 'addlebrained', 'addled', 'addlepated', 'addressable', 'addressed', 'adducent', 'adducting', 'adductive', 'adenocarcinomatous', 'adenoid', 'adenoidal', 'adept', 'adequate', 'adequate to', 'adherent', 'adhesive', 'ad hoc', 'ad hominem', 'adiabatic', 'adient', 'adipose', 'adjacent', 'adjectival', 'adjective', 'adjudicative', 'adjudicatory', 'adjunct', 'adjunctive', 'adjuratory', 'adjustable', 'adjusted', 'adjustive', 'adjuvant', 'ad-lib', 'administrable', 'administrative', 'admirable', 'admired', 'admissible', 'admissive', 'admittable', 'admittible', 'admonishing', 'admonitory', 'adnate', 'adnexal', 'adolescent', 'Adonic', 'adoptable', 'adopted', 'adoptive', 'adorable', 'adored', 'adoring', 'adorned', 'adpressed', 'adrenal', 'adrenergic', 'adrenocortical', 'adrenocorticotrophic', 'adrenocorticotropic', 'adrift', 'adroit', 'adscititious', 'adscript', 'adscripted', 'adsorbable', 'adsorbate', 'adsorbent', 'adsorptive', 'adulatory', 'adult', 'adulterant', 'adulterate', 'adulterated', 'adulterating', 'adulterine', 'adumbrative', 'adust', 'advance', 'advanced', 'advancing', 'advantageous', 'advective', 'adventitial', 'adventitious', 'adventive', 'adventuresome', 'adventuristic', 'adventurous', 'adverbial', 'adversarial', 'adversative', 'adverse', 'advertent', 'advertised', 'advisable', 'advised', 'advisory', 'adynamic', 'aecial', 'Aegean', 'Aeolian', 'aeolotropic', 'aeonian', 'aerated', 'aerial', 'aeriferous', 'aeriform', 'aerobic', 'aerobiotic', 'aerodynamic', 'aerolitic', 'aerological', 'aeromechanic', 'aeromedical', 'aeronautic', 'aeronautical', 'aerophilatelic', 'aerophilic', 'aerophilous', 'aerosolised', 'aerosolized', 'aery', 'Aeschylean', 'aesculapian', 'aesthetic', 'aesthetical', 'aestival', 'aetiologic', 'aetiological', 'afeard', 'afeared', 'afebrile', 'a few', 'affable', 'affected', 'affecting', 'affectional', 'affectionate', 'affective', 'afferent', 'affiliated', 'affinal', 'affine', 'affined', 'affirmable', 'affirmative', 'affirmatory', 'affixal', 'affixed', 'affixial', 'afflicted', 'afflictive', 'affluent', 'affordable', 'Afghan', 'Afghani', 'Afghanistani', 'afire', 'aflame', 'aflare', 'aflicker', 'afloat', 'aflutter', 'afoot', 'aforementioned', 'aforesaid', 'aforethought', 'afoul', 'afraid', 'African', 'African-American', 'Afrikaans', 'Afrikaner', 'Afro-American', 'Afro-Asian', 'aft', 'after', 'after-hours', 'aftermost', 'after-school', 'aftershafted', 'agamic', 'agamogenetic', 'agamous', 'agape', 'agaze', 'aged', 'ageing', 'ageless', 'agelong', 'agential', 'age-old', 'age-related', 'agglomerate', 'agglomerated', 'agglomerative', 'agglutinate', 'agglutinative', 'aggravated', 'aggravating', 'aggregate', 'aggregated', 'aggregative', 'aggressive', 'aghast', 'agile', 'aging', 'agitated', 'agitating', 'agitative', 'agleam', 'aglitter', 'aglow', 'agnate', 'agnatic', 'agnostic', 'agnostical', 'ago', 'agog', 'agonadal', 'agonal', 'agone', 'agonised', 'agonising', 'agonistic', 'agonistical', 'agonized', 'agonizing', 'agoraphobic', 'agranulocytic', 'agraphic', 'agrarian', 'agreeable', 'agreed', 'agreed upon', 'agrestic', 'agricultural', 'agrobiologic', 'agrobiological', 'agrologic', 'agrological', 'agronomic', 'agronomical', 'aground', 'agrypnotic', 'aguish', 'ahead', 'ahistorical', 'ahorse', 'ahorseback', 'aided', 'ailing', 'aimless', 'ain', 'airborne', 'air-breathing', 'air-conditioned', 'air-cooled', 'air-dried', 'air-dry', 'aired', 'air-filled', 'airheaded', 'airless', 'airlike', 'air sick', 'airsick', 'air-tight', 'airtight', 'air-to-air', 'air-to-ground', 'air-to-surface', 'airworthy', 'airy', 'ajar', 'akimbo', 'akin', 'alabaster', 'alabastrine', 'a la carte', 'alacritous', 'a la mode', 'alar', 'alarmed', 'alarming', 'alary', 'Alaskan', 'alate', 'alated', 'Albanian', 'albescent', 'Albigensian', 'albinal', 'albinic', 'albinistic', 'albinotic', 'albitic', 'albuminous', 'albuminuric', 'alcalescent', 'alchemic', 'alchemical', 'alchemistic', 'alchemistical', 'alcohol-dependent', 'alcoholic', 'alcohol-soluble', 'aldehydic', 'al dente', 'aldermanic', 'aldermanly', 'aleatory', 'alert', 'aleuronic', 'Aleutian', 'Alexandrian', 'alexic', 'alfresco', 'algal', 'algebraic', 'algebraical', 'Algerian', 'algid', 'algoid', 'algolagnic', 'algometric', 'algometrical', 'Algonkian', 'Algonquian', 'Algonquin', 'algophobic', 'algorithmic', 'alien', 'alienable', 'alienated', 'alienating', 'aliform', 'alight', 'aligned', 'aligning', 'alike', 'alimental', 'alimentary', 'alimentative', 'aliphatic', 'aliquot', 'alive', 'alkahestic', 'alkalescent', 'alkalic', 'alkaline', 'alkaline-loving', 'alkaloidal', 'alkalotic', 'alkylic', 'allantoic', 'allantoid', 'allargando', 'all-around', 'all-devouring', 'alleged', 'allegiant', 'allegoric', 'allegorical', 'allegretto', 'allegro', 'allelic', 'allelomorphic', 'all-embracing', 'all-encompassing', 'allergenic', 'allergic', 'alleviated', 'alleviative', 'alleviatory', 'all-fired', 'alliaceous', 'Allied', 'allied', 'alligatored', 'all important', 'all-important', 'all in', 'all-inclusive', 'alliterative', 'all-knowing', 'all-mains', 'all-metal', 'all-night', 'allocable', 'allocatable', 'allochronic', 'allochthonous', 'allogamous', 'allogeneic', 'allographic', 'allomerous', 'allometric', 'allomorphic', 'allopathic', 'allopatric', 'allophonic', 'all-or-none', 'all-or-nothing', 'allotropic', 'allotropical', 'allotted', 'all-out', 'all over', 'allover', 'allowable', 'alloyed', 'all-powerful', 'all-purpose', 'all right', 'all-round', 'all-time', 'alluring', 'allusive', 'alluvial', 'all-victorious', 'all-weather', 'allylic', 'almighty', 'almond-eyed', 'almond-scented', 'almond-shaped', 'alone', 'aloof', 'alopecic', 'alpestrine', 'alpha', 'alphabetic', 'alphabetical', 'alphabetised', 'alphabetized', 'alphameric', 'alphamerical', 'alphanumeric', 'alphanumerical', 'Alpine', 'alpine', 'alright', 'Alsatian', 'Altaic', 'alterable', 'alterative', 'altered', 'alternate', 'alternating', 'alternative', 'altissimo', 'altitudinal', 'altitudinous', 'alto', 'altricial', 'altruistic', 'alular', 'aluminiferous', 'aluminous', 'alveolar', 'alveolate', 'alvine', 'a.m.', 'amalgamate', 'amalgamated', 'amalgamative', 'amaranthine', 'amateur', 'amateurish', 'amative', 'amatory', 'amaurotic', 'amazed', 'amazing', 'ambagious', 'ambassadorial', 'amber', 'amber-green', 'ambidextrous', 'ambient', 'ambiguous', 'ambitionless', 'ambitious', 'ambivalent', 'ambiversive', 'amblyopic', 'ambrosial', 'Ambrosian', 'ambrosian', 'ambulacral', 'ambulant', 'ambulatory', 'ameban', 'amebic', 'ameboid', 'amebous', 'ameliorating', 'ameliorative']\n"
          ],
          "name": "stdout"
        }
      ]
    },
    {
      "cell_type": "code",
      "metadata": {
        "id": "52I0vF0N0PN0"
      },
      "source": [
        "words.index('abactinal') #236"
      ],
      "execution_count": null,
      "outputs": []
    },
    {
      "cell_type": "code",
      "metadata": {
        "id": "dOQdTyrg0PN0"
      },
      "source": [
        "search_box.clear()"
      ],
      "execution_count": null,
      "outputs": []
    },
    {
      "cell_type": "code",
      "metadata": {
        "id": "6g4_B5Nd0PN1"
      },
      "source": [
        "driver.quit()"
      ],
      "execution_count": null,
      "outputs": []
    },
    {
      "cell_type": "markdown",
      "metadata": {
        "id": "KO31iOdb0PN1"
      },
      "source": [
        "Load word data onto dataframe"
      ]
    },
    {
      "cell_type": "code",
      "metadata": {
        "id": "ydZoMBGI0PN1",
        "outputId": "440a87eb-3d2d-48ec-ce88-7ced9b5e8a68"
      },
      "source": [
        "data = defaultdict(list)\n",
        "words_ids = list(range(0,len(terms),1))\n",
        "for i in range(len(terms)):\n",
        "    data['Id'].append(i+1)\n",
        "    data['Attribute'].append(words[i])\n",
        "    data['Definition'].append(defs[i])\n",
        "\n",
        "df = pd.DataFrame(data)\n",
        "df"
      ],
      "execution_count": null,
      "outputs": [
        {
          "output_type": "execute_result",
          "data": {
            "text/plain": [
              "        Id     Attribute                                         Definition\n",
              "0        1            in                           directed or bound inward\n",
              "1        2             i    used of a single unit or thing; not two or more\n",
              "2        3            on                        in operation or operational\n",
              "3        4           all                                         quantifier\n",
              "4        5             0  indicating the absence of any or all units und...\n",
              "...    ...           ...                                                ...\n",
              "1015  1016        amebic                pertaining to or resembling amoebae\n",
              "1016  1017       ameboid                                     like an amoeba\n",
              "1017  1018       amebous                pertaining to or resembling amoebae\n",
              "1018  1019  ameliorating                              tending to ameliorate\n",
              "1019  1020  ameliorative                              tending to ameliorate\n",
              "\n",
              "[1020 rows x 3 columns]"
            ],
            "text/html": [
              "<div>\n",
              "<style scoped>\n",
              "    .dataframe tbody tr th:only-of-type {\n",
              "        vertical-align: middle;\n",
              "    }\n",
              "\n",
              "    .dataframe tbody tr th {\n",
              "        vertical-align: top;\n",
              "    }\n",
              "\n",
              "    .dataframe thead th {\n",
              "        text-align: right;\n",
              "    }\n",
              "</style>\n",
              "<table border=\"1\" class=\"dataframe\">\n",
              "  <thead>\n",
              "    <tr style=\"text-align: right;\">\n",
              "      <th></th>\n",
              "      <th>Id</th>\n",
              "      <th>Attribute</th>\n",
              "      <th>Definition</th>\n",
              "    </tr>\n",
              "  </thead>\n",
              "  <tbody>\n",
              "    <tr>\n",
              "      <th>0</th>\n",
              "      <td>1</td>\n",
              "      <td>in</td>\n",
              "      <td>directed or bound inward</td>\n",
              "    </tr>\n",
              "    <tr>\n",
              "      <th>1</th>\n",
              "      <td>2</td>\n",
              "      <td>i</td>\n",
              "      <td>used of a single unit or thing; not two or more</td>\n",
              "    </tr>\n",
              "    <tr>\n",
              "      <th>2</th>\n",
              "      <td>3</td>\n",
              "      <td>on</td>\n",
              "      <td>in operation or operational</td>\n",
              "    </tr>\n",
              "    <tr>\n",
              "      <th>3</th>\n",
              "      <td>4</td>\n",
              "      <td>all</td>\n",
              "      <td>quantifier</td>\n",
              "    </tr>\n",
              "    <tr>\n",
              "      <th>4</th>\n",
              "      <td>5</td>\n",
              "      <td>0</td>\n",
              "      <td>indicating the absence of any or all units und...</td>\n",
              "    </tr>\n",
              "    <tr>\n",
              "      <th>...</th>\n",
              "      <td>...</td>\n",
              "      <td>...</td>\n",
              "      <td>...</td>\n",
              "    </tr>\n",
              "    <tr>\n",
              "      <th>1015</th>\n",
              "      <td>1016</td>\n",
              "      <td>amebic</td>\n",
              "      <td>pertaining to or resembling amoebae</td>\n",
              "    </tr>\n",
              "    <tr>\n",
              "      <th>1016</th>\n",
              "      <td>1017</td>\n",
              "      <td>ameboid</td>\n",
              "      <td>like an amoeba</td>\n",
              "    </tr>\n",
              "    <tr>\n",
              "      <th>1017</th>\n",
              "      <td>1018</td>\n",
              "      <td>amebous</td>\n",
              "      <td>pertaining to or resembling amoebae</td>\n",
              "    </tr>\n",
              "    <tr>\n",
              "      <th>1018</th>\n",
              "      <td>1019</td>\n",
              "      <td>ameliorating</td>\n",
              "      <td>tending to ameliorate</td>\n",
              "    </tr>\n",
              "    <tr>\n",
              "      <th>1019</th>\n",
              "      <td>1020</td>\n",
              "      <td>ameliorative</td>\n",
              "      <td>tending to ameliorate</td>\n",
              "    </tr>\n",
              "  </tbody>\n",
              "</table>\n",
              "<p>1020 rows × 3 columns</p>\n",
              "</div>"
            ]
          },
          "metadata": {
            "tags": []
          },
          "execution_count": 17
        }
      ]
    },
    {
      "cell_type": "code",
      "metadata": {
        "id": "dQ0LI2nQ0PN2",
        "outputId": "542ed57f-e996-4b52-98b3-7a00d6e5f382"
      },
      "source": [
        "df.tail()"
      ],
      "execution_count": null,
      "outputs": [
        {
          "output_type": "execute_result",
          "data": {
            "text/plain": [
              "        Id     Attribute                           Definition\n",
              "1015  1016        amebic  pertaining to or resembling amoebae\n",
              "1016  1017       ameboid                       like an amoeba\n",
              "1017  1018       amebous  pertaining to or resembling amoebae\n",
              "1018  1019  ameliorating                tending to ameliorate\n",
              "1019  1020  ameliorative                tending to ameliorate"
            ],
            "text/html": [
              "<div>\n",
              "<style scoped>\n",
              "    .dataframe tbody tr th:only-of-type {\n",
              "        vertical-align: middle;\n",
              "    }\n",
              "\n",
              "    .dataframe tbody tr th {\n",
              "        vertical-align: top;\n",
              "    }\n",
              "\n",
              "    .dataframe thead th {\n",
              "        text-align: right;\n",
              "    }\n",
              "</style>\n",
              "<table border=\"1\" class=\"dataframe\">\n",
              "  <thead>\n",
              "    <tr style=\"text-align: right;\">\n",
              "      <th></th>\n",
              "      <th>Id</th>\n",
              "      <th>Attribute</th>\n",
              "      <th>Definition</th>\n",
              "    </tr>\n",
              "  </thead>\n",
              "  <tbody>\n",
              "    <tr>\n",
              "      <th>1015</th>\n",
              "      <td>1016</td>\n",
              "      <td>amebic</td>\n",
              "      <td>pertaining to or resembling amoebae</td>\n",
              "    </tr>\n",
              "    <tr>\n",
              "      <th>1016</th>\n",
              "      <td>1017</td>\n",
              "      <td>ameboid</td>\n",
              "      <td>like an amoeba</td>\n",
              "    </tr>\n",
              "    <tr>\n",
              "      <th>1017</th>\n",
              "      <td>1018</td>\n",
              "      <td>amebous</td>\n",
              "      <td>pertaining to or resembling amoebae</td>\n",
              "    </tr>\n",
              "    <tr>\n",
              "      <th>1018</th>\n",
              "      <td>1019</td>\n",
              "      <td>ameliorating</td>\n",
              "      <td>tending to ameliorate</td>\n",
              "    </tr>\n",
              "    <tr>\n",
              "      <th>1019</th>\n",
              "      <td>1020</td>\n",
              "      <td>ameliorative</td>\n",
              "      <td>tending to ameliorate</td>\n",
              "    </tr>\n",
              "  </tbody>\n",
              "</table>\n",
              "</div>"
            ]
          },
          "metadata": {
            "tags": []
          },
          "execution_count": 18
        }
      ]
    },
    {
      "cell_type": "code",
      "metadata": {
        "id": "6f60vkJR0PN2"
      },
      "source": [
        "# save the dataframe as csv\n",
        "df.to_csv('vocab_data.csv', index=False)"
      ],
      "execution_count": null,
      "outputs": []
    },
    {
      "cell_type": "markdown",
      "metadata": {
        "id": "8pLub3LY0PN2"
      },
      "source": [
        "Find synonyms and antonyms of each word on vocabulary.com advanced search"
      ]
    }
  ]
}